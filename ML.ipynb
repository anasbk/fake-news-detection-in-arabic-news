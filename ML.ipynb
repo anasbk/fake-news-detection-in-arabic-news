{
 "cells": [
  {
   "cell_type": "markdown",
   "metadata": {},
   "source": [
    "# Fake News Detection In Arabic Newspapers"
   ]
  },
  {
   "cell_type": "markdown",
   "metadata": {},
   "source": [
    "### imports"
   ]
  },
  {
   "cell_type": "code",
   "execution_count": 50,
   "metadata": {},
   "outputs": [],
   "source": [
    "import os\n",
    "import pandas as pd\n",
    "import itertools\n",
    "import numpy as np\n",
    "import string\n",
    "import re\n",
    "import matplotlib.pyplot as plt\n",
    "\n",
    "import pickle\n",
    "\n",
    "from sklearn import preprocessing\n",
    "import matplotlib\n",
    "from nltk.tokenize import word_tokenize\n",
    "from nltk.tokenize import sent_tokenize, word_tokenize\n",
    "from nltk.corpus import stopwords\n",
    "\n",
    "from sklearn.linear_model import LogisticRegression\n",
    "from sklearn.model_selection import train_test_split\n",
    "from sklearn.feature_extraction.text import CountVectorizer\n",
    "from sklearn.feature_extraction.text import TfidfVectorizer\n",
    "\n",
    "\n",
    "# Keras\n",
    "from keras.preprocessing.text import Tokenizer\n",
    "from keras.preprocessing.sequence import pad_sequences\n",
    "from keras.models import Sequential\n",
    "from keras.layers import Dense, Flatten, LSTM, Conv1D, MaxPooling1D, Dropout, Activation,SpatialDropout1D\n",
    "from keras.layers.embeddings import Embedding\n",
    "\n",
    "\n",
    "# Stemming\n",
    "\n",
    "from nltk.stem import SnowballStemmer\n"
   ]
  },
  {
   "cell_type": "markdown",
   "metadata": {},
   "source": [
    "## Normalisation"
   ]
  },
  {
   "cell_type": "markdown",
   "metadata": {},
   "source": [
    "### remove diacritics"
   ]
  },
  {
   "cell_type": "code",
   "execution_count": 51,
   "metadata": {},
   "outputs": [],
   "source": [
    "def removeDiacretics(news_list):\n",
    "\n",
    "    arabic_diacritics = re.compile(\"\"\"\n",
    "                             ّ    | # Tashdid\n",
    "                             َ    | # Fatha\n",
    "                             ً    | # Tanwin Fath\n",
    "                             ُ    | # Damma\n",
    "                             ٌ    | # Tanwin Damm\n",
    "                             ِ    | # Kasra\n",
    "                             ٍ    | # Tanwin Kasr\n",
    "                             ْ    | # Sukun\n",
    "                             ـ     # Tatwil/Kashida\n",
    "                         \"\"\", re.VERBOSE)\n",
    "    temp_list = list()\n",
    "    for news in news_list:\n",
    "        text = re.sub(arabic_diacritics, '', news)\n",
    "        temp_list.append(text)\n",
    "\n",
    "    return temp_list\n"
   ]
  },
  {
   "cell_type": "markdown",
   "metadata": {},
   "source": [
    "### get top n words"
   ]
  },
  {
   "cell_type": "code",
   "execution_count": 52,
   "metadata": {},
   "outputs": [],
   "source": [
    "def get_top_n_words(corpus, n=None):\n",
    "   \n",
    "    vec = CountVectorizer().fit(corpus)\n",
    "    bag_of_words = vec.transform(corpus)\n",
    "    sum_words = bag_of_words.sum(axis=0)\n",
    "    words_freq = [(word, sum_words[0, idx]) for word, idx in vec.vocabulary_.items()]\n",
    "    words_freq =sorted(words_freq, key=lambda x: x[1], reverse=True)\n",
    "    return words_freq[:n]\n"
   ]
  },
  {
   "cell_type": "markdown",
   "metadata": {},
   "source": [
    "### normalise arabic"
   ]
  },
  {
   "cell_type": "code",
   "execution_count": 53,
   "metadata": {},
   "outputs": [],
   "source": [
    "def normalize_arabic(text):\n",
    "    text = re.sub(\"[إأآا]\", \"ا\", text)\n",
    "    text = re.sub(\"ى\", \"ي\", text)\n",
    "    text = re.sub(\"ؤ\", \"ء\", text)\n",
    "    text = re.sub(\"ئ\", \"ء\", text)\n",
    "    text = re.sub(\"ة\", \"ه\", text)\n",
    "    text = re.sub(\"گ\", \"ك\", text)\n",
    "    return text"
   ]
  },
  {
   "cell_type": "markdown",
   "metadata": {},
   "source": [
    "### other normalisations"
   ]
  },
  {
   "cell_type": "code",
   "execution_count": 54,
   "metadata": {},
   "outputs": [],
   "source": [
    "\n",
    "\n",
    "def remove_diacritics(text):\n",
    "    text = re.sub(arabic_diacritics, '', text)\n",
    "    return text\n",
    "\n",
    "def remove_punctuations(text):\n",
    "    translator = str.maketrans(' ', ' ', punctuations_list)\n",
    "    return text.translate(translator)\n",
    "\n",
    "def remove_repeating_char(text):\n",
    "    return re.sub(r'(.)\\1+', r'\\1', text)"
   ]
  },
  {
   "cell_type": "markdown",
   "metadata": {},
   "source": [
    "### remove ponctuations"
   ]
  },
  {
   "cell_type": "code",
   "execution_count": 55,
   "metadata": {},
   "outputs": [],
   "source": [
    "\n",
    "arabic_punctuations = '''`÷×؛<>_()*&^%][ـ،/:\"؟.,'{}~¦+|\"!”…“–ـ'''\n",
    "english_punctuations = string.punctuation\n",
    "punctuations_list = arabic_punctuations + english_punctuations\n"
   ]
  },
  {
   "cell_type": "markdown",
   "metadata": {},
   "source": [
    "### stopwords"
   ]
  },
  {
   "cell_type": "code",
   "execution_count": 56,
   "metadata": {},
   "outputs": [],
   "source": [
    "\n",
    "stop_words = set(stopwords.words('arabic'))\n"
   ]
  },
  {
   "cell_type": "markdown",
   "metadata": {},
   "source": [
    "### normalise arabic"
   ]
  },
  {
   "cell_type": "code",
   "execution_count": 57,
   "metadata": {},
   "outputs": [],
   "source": [
    "def normalizeArabic(text):\n",
    "    text = re.sub(\"[إأٱآا]\", \"ا\", text)\n",
    "    text = re.sub(\"ى\", \"ي\", text)\n",
    "    text = re.sub(\"ؤ\", \"ء\", text)\n",
    "    text = re.sub(\"ئ\", \"ء\", text)\n",
    "    return(text)\n"
   ]
  },
  {
   "cell_type": "code",
   "execution_count": 58,
   "metadata": {},
   "outputs": [
    {
     "data": {
      "text/plain": [
       "<matplotlib.axes._subplots.AxesSubplot at 0x2b356b0b080>"
      ]
     },
     "execution_count": 58,
     "metadata": {},
     "output_type": "execute_result"
    },
    {
     "data": {
      "image/png": "[encoded data removed]",
      "text/plain": [
       "<matplotlib.figure.Figure at 0x2b3565613c8>"
      ]
     },
     "metadata": {},
     "output_type": "display_data"
    }
   ],
   "source": [
    "\n",
    "ar_stemmer = SnowballStemmer(\"arabic\")\n",
    "\n",
    "trainDF1 = pd.read_csv(\"dataset.csv\", delimiter=\",\", encoding='utf-8')\n",
    "trainDF2 = pd.read_csv(\"dataset2.csv\", delimiter=\",\", encoding='utf-8')\n",
    "\n",
    "trainDF = pd.concat([trainDF1,trainDF2])\n",
    "\n",
    "trainDF.text[0]\n",
    "\n",
    "pd.DataFrame(trainDF.text[0]).to_csv(\"1.csv\",index=False)\n",
    "\n",
    "\n",
    "\n",
    "trainDF['label'].value_counts().plot(kind='bar')\n",
    "\n",
    "\n"
   ]
  },
  {
   "cell_type": "markdown",
   "metadata": {},
   "source": [
    "### Apply normalise to all dataset"
   ]
  },
  {
   "cell_type": "code",
   "execution_count": 59,
   "metadata": {},
   "outputs": [],
   "source": [
    "def normalizeDF(df):\n",
    "\n",
    "    for index, row in df.iterrows():\n",
    "\n",
    "        text = df.iloc[index].text\n",
    "        \n",
    "        if type(text) == str:\n",
    "            \n",
    "            text = remove_punctuations(text).rstrip()\n",
    "\n",
    "            text = removeDiacretics([text])\n",
    "\n",
    "            word_tokens = word_tokenize(text[0])\n",
    "\n",
    "            filtered_sentence = [w for w in word_tokens if not w in stop_words]\n",
    "\n",
    "            stemmed_words = [ar_stemmer.stem(word) for word in filtered_sentence]\n",
    "\n",
    "            stemmed_sentence = ' '.join(stemmed_words)\n",
    "\n",
    "            df.iloc[index].text = stemmed_sentence\n",
    "\n",
    "    return df"
   ]
  },
  {
   "cell_type": "code",
   "execution_count": 60,
   "metadata": {},
   "outputs": [
    {
     "name": "stdout",
     "output_type": "stream",
     "text": [
      "                                                text     label\n",
      "0  اسوا مكتب ارشاد يمل نايب عام قرار انج خليف قال...  Not_Fake\n",
      "1  قضا دول نتسلم الان حكم عود نايب عام سابق قاهر ...  Not_Fake\n",
      "2  عضو ب « شورى » يطالب مرس اعل طوارء تشكيل محا ث...  Not_Fake\n",
      "3  نياب عام طلع عبد الله نايب عام حال باق منصب بق...  Not_Fake\n",
      "4  سرع انتر مصر تنخفض 60 انقطاع كابل حرى قال سيم ...  Not_Fake\n",
      "filtered\n"
     ]
    }
   ],
   "source": [
    "\n",
    "filtered_df = normalizeDF(trainDF)\n",
    "\n",
    "myinp = filtered_df.text[0]\n",
    "\n",
    "pd.DataFrame(filtered_df.text[0]).to_csv(\"2.csv\",index=False)\n",
    "\n",
    "filtered_df.to_csv('to_train.csv', sep=',')\n",
    "\n",
    "print(filtered_df.head())\n",
    "\n",
    "filtered_df.to_csv('to_train.csv', sep=',')\n",
    "\n",
    "print(\"filtered\")\n",
    "\n"
   ]
  },
  {
   "cell_type": "markdown",
   "metadata": {},
   "source": [
    "#### split dataset "
   ]
  },
  {
   "cell_type": "code",
   "execution_count": 61,
   "metadata": {},
   "outputs": [
    {
     "name": "stdout",
     "output_type": "stream",
     "text": [
      "(7891,) (7891,)\n",
      "(1973,) (1973,)\n"
     ]
    }
   ],
   "source": [
    "train_x, test_x, train_y, test_y = train_test_split(trainDF['text'].values, trainDF['label'].values,test_size=0.2)\n",
    "\n",
    "print(train_x.shape, train_y.shape)\n",
    "print(test_x.shape, test_y.shape)"
   ]
  },
  {
   "cell_type": "markdown",
   "metadata": {},
   "source": [
    "### tfidfVectorizer"
   ]
  },
  {
   "cell_type": "code",
   "execution_count": 66,
   "metadata": {},
   "outputs": [
    {
     "name": "stdout",
     "output_type": "stream",
     "text": [
      "<class 'numpy.ndarray'>\n",
      "(7891,)\n",
      "ضبط 8 بلا بلو قاهر اكد مدير امن قاهر بيا رسم انه تم قاء قبض 8 اشخاص منتم جماع بلا بلو دواير اقسام مدير منهم قام قطع طريق عام ضبط حوز ذخير حي مولوتوف تمك خدم امن داير قسم عابد ضبط محمد فهم محمد 30س عاطل مقيم لبيس شرق حوز طبنج صوت مار راو معدل حي و50 طلق مواج اقر انضمام حديث مجموع بلا بلو وان حصل سلاح طلق احد اعضاء تسليم اخر تحرر محضر رقم 8402013 جنح عابد عرض نياب قرر حبس اربع ايام تجديد حبس امر اخلاء سبيل كفال مال وف مد نصر القى رجال شرط قبض احمد ابو قاسم عويض صحف جريد شباب مصر كتر مقيم عمرا جيز مرتد قناع اسود مناقش قرر انه اثناء تواجد شارع مكرم عبيد توقف طريق عام امس لاف ورق مدو عايز تقبض بلا بلو اقبض اخو عايز تقبض بلا بلو اقبض منقب عايز تقبض بلا بلو قتل اخو فى اتحاد اقبض اخو اضاف بان ينتم جماع بلا بلو وان اراد توصيل رسال جماهير قايم حكم اضاف انه دايم انتقاد مقال اعمال شغب قطع طرق تحرر محضر رقم 3192013 جنح قسم شرط مد نصر اول عرض نياب قرر اخلاء سبيل و تمك مباحث لاق ابو الع قبض احمد ناج محمد جبر سن21طالب مقيم شبر خيم قليوب حوز طلق ال قناع اسود خاص مجموع بلا بلو احمد حماد سليم عاطل مقيم راق عرب جيز سابق اتهام قض مخدراتوالمحكوم فى 8 قضا ايصال اما ضرب تتراوح احكام ست اشهر سن حوز قناع اسود خاص مجموع بلا بلو واعترف اشتر فى قطع طريق اعلى كوبر 6 اكتوبر مهاجم رفقاء جماع لقسم شرط ازب زجاج حارق منطق حدايق القب تمك وحد مباحث قسم ضبط سيد احمد سيد خضر عامل مقيم داير قسم شرط شراب محكوم فى قض تبديد حبس 6 شهور حوز سلاح نار فرد خرطوش محلى صنع طلق عيار قناع اسود اثناء استقلال دراج خار بدو لوح معد ملك مواج اعترف اشتر فى اعمال شغب تعد قوا شرط اطلاق اعير نار محيط ندق سميراميس تمت احال نياب التى قرر حبس ذم تحقيق وفى ضوء اشتر جماع بلا بلو متظاهر اثار شغب امام دار قضاء عال تعد القو لرفض قرار نايب عام حبس احد عناصر جماع حال قيام القو منع تعد القى رجال شرط قبض احمد فوز عبد هاب 20 سن طالب مقيم جيز حوز تيشير اسود شال اسود طارق احمد عبد الله 19 سن طالب مقيم شبر خيم قليوب يرتد تيشر اسود حوز كمام سوداء محمد خالد عبد نيس 17 سن مقيم مرج حوز عدد 3 وارغ قنابل غاز كمام وجه تيشير اسود لون تم تحرير محاضر بتل قايع تول نياب تحقيق\n",
      "(7891, 5000)\n",
      "(1973, 5000)\n"
     ]
    }
   ],
   "source": [
    "\n",
    "max_fatures = 500\n",
    "\n",
    "# word level tf-idf\n",
    "tfidf_vect = TfidfVectorizer(analyzer='word',max_features=5000)\n",
    "tfidf_vect.fit(trainDF['text'].values.astype('U'))\n",
    "\n",
    "\n",
    "print(type(train_x))\n",
    "print(train_x.shape)\n",
    "xtrain_tfidf = tfidf_vect.transform(train_x.astype('U')).toarray()\n",
    "\n",
    "xvalid_tfidf = tfidf_vect.transform(test_x.astype('U')).toarray()\n",
    "\n",
    "pickle.dump(tfidf_vect, open(\"vectorizer.pickle\", \"wb\"))\n",
    "\n",
    "mdl2 = pickle.load(open(\"vectorizer.pickle\",\"rb\"))\n",
    "\n",
    "myinp = '''\n",
    "\n",
    "\n",
    "الصح 18 حال وفا و 3 اصاب فى حادث منطاد اقصر اعل دكتور خالد خطيب رييس ادار مركز رعا عاجل حرج زار الصح عدد حال وفا فى حادث حريق و انفجار منطاد اقصر اثناء هبوط وصل 18 حال وفا و3 مصاب اوضح خطيب تصريح يوم قتلى 4 يابا و9 صين رنس اثن مجر وانجليزى اضاف مواط مصر مشير حصر وفق بيا وارد شرك مسيول رحل مدير الصح اقصر ولف مصاب ثلاث ريطا مصر يخضع علاج مستشفى اقصر دولى تراوح حال اصاب حروق درج ثلاث جروح متعدد كسور كان دكتور محمد مصطفى حامد زير الصح والس اصدر تعليم نقل ضحا اسعاف طاير قاهر مصاب حادث مستشفى معهد ناصر وقد توج صباح يوم ريق طب رياس دكتور محمد سلط رييس هيء اسعاف مصر اقصر قوف حال مصاب طير بال قان مطابق مواصف واحترق اثناء هبو فى سياق متصل اكد رييس سلط طير مدن محمد ابراهيم شريف بال سقط محافظ اقصر صعيد مصر صباح يومالثلاثاء واد ال مصرع 19 سايح كان مرخص يعمل شكل قان طبق تعليم مواصف تنص زار طير مدن قال ابراهيم تصريح صحف يومالثلاثاءء لجن حوادث بدء تحقيق لفحص ملابس حادث معرف اسباب حقيق اضاف حريق نشب بال اثناء محاول تثب عمال ارض مرحل هبوط مساف 3 امتار ارض اقلع مر ثان وف اثناء قفز ركاب هروب طيار ارتفع بال ال اعل اد ال زياد اشتعال فعل عوامل الجو قال معروف مندوب شرك مطار يقوم مخاطب ارصاد الجو معرف سرع رياح واتج ومد ملايم اجواء اقلاع بال يقوم تنسيق الجه مختلف معرف عدد مناطيد اخر اما سماء تحدث مصادم اجراء سلامةمش ال بال يقسم ال اربع اجزاء جزء يسع خمس ركاب اضاف ال جزء مخصص طيار\n",
    "\n",
    "\n",
    "'''\n",
    "\n",
    "print(train_x[0])\n",
    "\n",
    "\n",
    "\n",
    "myinp0 = tfidf_vect.transform(np.array([train_x[0]]).astype('U')).toarray()\n",
    "myinpvect = mdl2.transform(np.array([myinp]).astype('U')).toarray()\n",
    "\n",
    "\n",
    "\n",
    "pd.DataFrame(myinp0).to_csv(\"k1.csv\")\n",
    "pd.DataFrame(myinpvect).to_csv(\"k2.csv\")\n",
    "\n",
    "\n",
    "pd.DataFrame(xtrain_tfidf[0]).to_csv(\"1.csv\")\n",
    "# save model\n",
    "\n",
    "\n",
    "print(xtrain_tfidf.shape)\n",
    "print(xvalid_tfidf.shape)\n",
    "\n",
    "# load model "
   ]
  },
  {
   "cell_type": "markdown",
   "metadata": {},
   "source": [
    "### CountVectorizer"
   ]
  },
  {
   "cell_type": "code",
   "execution_count": 68,
   "metadata": {},
   "outputs": [
    {
     "name": "stdout",
     "output_type": "stream",
     "text": [
      "(7891, 5000)\n",
      "(1973, 5000)\n"
     ]
    }
   ],
   "source": [
    "\n",
    "count_vec = CountVectorizer(analyzer='word', max_features=5000)\n",
    "count_train = count_vec.fit(trainDF['text'].values.astype('U'))\n",
    "bag_of_words_train = count_vec.transform(train_x.astype('U')).toarray()\n",
    "bag_of_words_test = count_vec.transform(test_x.astype('U')).toarray()\n",
    "\n",
    "\n",
    "\n",
    "print(bag_of_words_train.shape)\n",
    "print(bag_of_words_test.shape)\n"
   ]
  },
  {
   "cell_type": "markdown",
   "metadata": {},
   "source": [
    "## Logistic Regression +TfIdfVectorizer"
   ]
  },
  {
   "cell_type": "code",
   "execution_count": 69,
   "metadata": {},
   "outputs": [
    {
     "name": "stdout",
     "output_type": "stream",
     "text": [
      "(1973,)\n",
      "(7891,)\n",
      "Validation Accuracy : 0.8596046629498226\n",
      "(1973,)\n",
      "(1973,)\n",
      "Confusion matrix, without normalization\n",
      "[[802 232]\n",
      " [ 45 894]]\n",
      "Normalized confusion matrix\n",
      "[[0.78 0.22]\n",
      " [0.05 0.95]]\n"
     ]
    },
    {
     "data": {
      "image/png": "[encoded data removed]",
      "text/plain": [
       "<matplotlib.figure.Figure at 0x2b35d273c18>"
      ]
     },
     "metadata": {},
     "output_type": "display_data"
    },
    {
     "data": {
      "image/png": "[encoded data removed]",
      "text/plain": [
       "<matplotlib.figure.Figure at 0x2b356b19470>"
      ]
     },
     "metadata": {},
     "output_type": "display_data"
    }
   ],
   "source": [
    "\n",
    "# Fitting the Logistic Regression into the Training set\n",
    "\n",
    "\n",
    "\n",
    "from sklearn.metrics import accuracy_score\n",
    "\n",
    "\n",
    "\n",
    "\n",
    "from sklearn.linear_model import LogisticRegression\n",
    "classifier = LogisticRegression(random_state = 0)\n",
    "classifier.fit(xtrain_tfidf, train_y)\n",
    "\n",
    "\n",
    "# save resulting model\n",
    "\n",
    "\n",
    "pickle.dump(classifier, open(\"logistic_reg.pickle\", \"wb\"))\n",
    "\n",
    "# Predicting the test set results\n",
    "\n",
    "tested_y = classifier.predict(xvalid_tfidf)\n",
    "\n",
    "print(tested_y.shape)\n",
    "print(train_y.shape)\n",
    "\n",
    "print('Validation Accuracy : ' + str(accuracy_score(test_y, tested_y)))\n",
    "\n",
    "\n",
    "\n",
    "\n",
    "# Making the Confusion Matrix\n",
    "\n",
    "print(tested_y.shape)\n",
    "print(test_y.shape)\n",
    "from sklearn.metrics import confusion_matrix\n",
    "cm = confusion_matrix(tested_y, test_y)\n",
    "\n",
    "def plot_confusion_matrix(cm, classes=['not fake','fake'],\n",
    "                          normalize=False,\n",
    "                          title='Confusion matrix',\n",
    "                          cmap=plt.cm.Blues):\n",
    "    \"\"\"\n",
    "    This function prints and plots the confusion matrix.\n",
    "    Normalization can be applied by setting `normalize=True`.\n",
    "    \"\"\"\n",
    "    if normalize:\n",
    "        cm = cm.astype('float') / cm.sum(axis=1)[:, np.newaxis]\n",
    "        print(\"Normalized confusion matrix\")\n",
    "    else:\n",
    "        print('Confusion matrix, without normalization')\n",
    "\n",
    "    print(cm)\n",
    "\n",
    "    plt.imshow(cm, interpolation='nearest', cmap=cmap)\n",
    "    plt.title(title)\n",
    "    plt.colorbar()\n",
    "    tick_marks = np.arange(len(classes))\n",
    "    plt.xticks(tick_marks, classes, rotation=45)\n",
    "    plt.yticks(tick_marks, classes)\n",
    "\n",
    "    fmt = '.2f' if normalize else 'd'\n",
    "    thresh = cm.max() / 2.\n",
    "    for i, j in itertools.product(range(cm.shape[0]), range(cm.shape[1])):\n",
    "        plt.text(j, i, format(cm[i, j], fmt),\n",
    "                 horizontalalignment=\"center\",\n",
    "                 color=\"white\" if cm[i, j] > thresh else \"black\")\n",
    "\n",
    "    plt.ylabel('True label')\n",
    "    plt.xlabel('Predicted label')\n",
    "    plt.tight_layout()\n",
    "\n",
    "\n",
    "# Compute confusion matrix\n",
    "np.set_printoptions(precision=2)\n",
    "\n",
    "# Plot non-normalized confusion matrix\n",
    "plt.figure()\n",
    "plot_confusion_matrix(cm,\n",
    "                      title='Confusion matrix, without normalization')\n",
    "\n",
    "# Plot normalized confusion matrix\n",
    "plt.figure()\n",
    "plot_confusion_matrix(cm, normalize=True,\n",
    "                      title='Normalized confusion matrix')\n",
    "\n",
    "plt.show()\n",
    "\n"
   ]
  },
  {
   "cell_type": "markdown",
   "metadata": {},
   "source": [
    "## Logistic Regression + CountVectorizer"
   ]
  },
  {
   "cell_type": "code",
   "execution_count": 70,
   "metadata": {},
   "outputs": [
    {
     "name": "stdout",
     "output_type": "stream",
     "text": [
      "(1973,)\n",
      "(1973,)\n",
      "Validation Accuracy : 0.8443993917891536\n",
      "(1973,)\n",
      "(1973,)\n",
      "Confusion matrix, without normalization\n",
      "[[707 167]\n",
      " [140 959]]\n",
      "Normalized confusion matrix\n",
      "[[0.81 0.19]\n",
      " [0.13 0.87]]\n"
     ]
    },
    {
     "data": {
      "image/png": "[encoded data removed]",
      "text/plain": [
       "<matplotlib.figure.Figure at 0x2b357c28470>"
      ]
     },
     "metadata": {},
     "output_type": "display_data"
    },
    {
     "data": {
      "image/png": "[encoded data removed]",
      "text/plain": [
       "<matplotlib.figure.Figure at 0x2b3581e4f98>"
      ]
     },
     "metadata": {},
     "output_type": "display_data"
    }
   ],
   "source": [
    "\n",
    "classifier = LogisticRegression(random_state = 0)\n",
    "classifier.fit(bag_of_words_train, train_y)\n",
    "\n",
    "# Predicting the test set results\n",
    "\n",
    "tested_y = classifier.predict(bag_of_words_test)\n",
    "\n",
    "print(tested_y.shape)\n",
    "print(test_y.shape)\n",
    "\n",
    "print('Validation Accuracy : ' + str(accuracy_score(test_y, tested_y)))\n",
    "\n",
    "# Making the Confusion Matrix\n",
    "\n",
    "print(tested_y.shape)\n",
    "print(test_y.shape)\n",
    "from sklearn.metrics import confusion_matrix\n",
    "cm = confusion_matrix(tested_y, test_y)\n",
    "\n",
    "def plot_confusion_matrix(cm, classes=['not fake','fake'],\n",
    "                          normalize=False,\n",
    "                          title='Confusion matrix',\n",
    "                          cmap=plt.cm.Blues):\n",
    "    \"\"\"\n",
    "    This function prints and plots the confusion matrix.\n",
    "    Normalization can be applied by setting `normalize=True`.\n",
    "    \"\"\"\n",
    "    if normalize:\n",
    "        cm = cm.astype('float') / cm.sum(axis=1)[:, np.newaxis]\n",
    "        print(\"Normalized confusion matrix\")\n",
    "    else:\n",
    "        print('Confusion matrix, without normalization')\n",
    "\n",
    "    print(cm)\n",
    "\n",
    "    plt.imshow(cm, interpolation='nearest', cmap=cmap)\n",
    "    plt.title(title)\n",
    "    plt.colorbar()\n",
    "    tick_marks = np.arange(len(classes))\n",
    "    plt.xticks(tick_marks, classes, rotation=45)\n",
    "    plt.yticks(tick_marks, classes)\n",
    "\n",
    "    fmt = '.2f' if normalize else 'd'\n",
    "    thresh = cm.max() / 2.\n",
    "    for i, j in itertools.product(range(cm.shape[0]), range(cm.shape[1])):\n",
    "        plt.text(j, i, format(cm[i, j], fmt),\n",
    "                 horizontalalignment=\"center\",\n",
    "                 color=\"white\" if cm[i, j] > thresh else \"black\")\n",
    "\n",
    "    plt.ylabel('True label')\n",
    "    plt.xlabel('Predicted label')\n",
    "    plt.tight_layout()\n",
    "\n",
    "\n",
    "# Compute confusion matrix\n",
    "np.set_printoptions(precision=2)\n",
    "\n",
    "# Plot non-normalized confusion matrix\n",
    "plt.figure()\n",
    "plot_confusion_matrix(cm,\n",
    "                      title='Confusion matrix, without normalization')\n",
    "\n",
    "# Plot normalized confusion matrix\n",
    "plt.figure()\n",
    "plot_confusion_matrix(cm, normalize=True,\n",
    "                      title='Normalized confusion matrix')\n",
    "\n",
    "plt.show()\n"
   ]
  },
  {
   "cell_type": "markdown",
   "metadata": {},
   "source": [
    "## Naive Bayes"
   ]
  },
  {
   "cell_type": "code",
   "execution_count": 72,
   "metadata": {},
   "outputs": [
    {
     "name": "stdout",
     "output_type": "stream",
     "text": [
      "(1973,)\n",
      "(7891,)\n",
      "Validation Accuracy : 0.8449062341611758\n",
      "(1973,)\n",
      "(1973,)\n",
      "Confusion matrix, without normalization\n",
      "[[844 303]\n",
      " [  3 823]]\n",
      "Normalized confusion matrix\n",
      "[[0.74 0.26]\n",
      " [0.   1.  ]]\n"
     ]
    },
    {
     "data": {
      "image/png": "[encoded data removed]",
      "text/plain": [
       "<matplotlib.figure.Figure at 0x2b317adfdd8>"
      ]
     },
     "metadata": {},
     "output_type": "display_data"
    },
    {
     "data": {
      "image/png": "[encoded data removed]",
      "text/plain": [
       "<matplotlib.figure.Figure at 0x2b357f90978>"
      ]
     },
     "metadata": {},
     "output_type": "display_data"
    }
   ],
   "source": [
    "from sklearn.naive_bayes import MultinomialNB\n",
    "\n",
    "model1 = MultinomialNB().fit( xtrain_tfidf, train_y)\n",
    "\n",
    "# save model\n",
    "\n",
    "pickle.dump(model1, open(\"nayve_bayes.pickle\", \"wb\"))\n",
    "\n",
    "\n",
    "tested_y = model1.predict(xvalid_tfidf)\n",
    "\n",
    "\n",
    "print(tested_y.shape)\n",
    "print(train_y.shape)\n",
    "\n",
    "print('Validation Accuracy : ' + str(accuracy_score(test_y, tested_y)))\n",
    "\n",
    "\n",
    "print(tested_y.shape)\n",
    "print(test_y.shape)\n",
    "from sklearn.metrics import confusion_matrix\n",
    "cm = confusion_matrix(tested_y, test_y)\n",
    "\n",
    "def plot_confusion_matrix(cm, classes=['not fake','fake'],\n",
    "                          normalize=False,\n",
    "                          title='Confusion matrix',\n",
    "                          cmap=plt.cm.Blues):\n",
    "    \"\"\"\n",
    "    This function prints and plots the confusion matrix.\n",
    "    Normalization can be applied by setting `normalize=True`.\n",
    "    \"\"\"\n",
    "    if normalize:\n",
    "        cm = cm.astype('float') / cm.sum(axis=1)[:, np.newaxis]\n",
    "        print(\"Normalized confusion matrix\")\n",
    "    else:\n",
    "        print('Confusion matrix, without normalization')\n",
    "\n",
    "    print(cm)\n",
    "\n",
    "    plt.imshow(cm, interpolation='nearest', cmap=cmap)\n",
    "    plt.title(title)\n",
    "    plt.colorbar()\n",
    "    tick_marks = np.arange(len(classes))\n",
    "    plt.xticks(tick_marks, classes, rotation=45)\n",
    "    plt.yticks(tick_marks, classes)\n",
    "\n",
    "    fmt = '.2f' if normalize else 'd'\n",
    "    thresh = cm.max() / 2.\n",
    "    for i, j in itertools.product(range(cm.shape[0]), range(cm.shape[1])):\n",
    "        plt.text(j, i, format(cm[i, j], fmt),\n",
    "                 horizontalalignment=\"center\",\n",
    "                 color=\"white\" if cm[i, j] > thresh else \"black\")\n",
    "\n",
    "    plt.ylabel('True label')\n",
    "    plt.xlabel('Predicted label')\n",
    "    plt.tight_layout()\n",
    "\n",
    "\n",
    "# Compute confusion matrix\n",
    "np.set_printoptions(precision=2)\n",
    "\n",
    "# Plot non-normalized confusion matrix\n",
    "plt.figure()\n",
    "plot_confusion_matrix(cm,\n",
    "                      title='Confusion matrix, without normalization')\n",
    "\n",
    "# Plot normalized confusion matrix\n",
    "plt.figure()\n",
    "plot_confusion_matrix(cm, normalize=True,\n",
    "                      title='Normalized confusion matrix')\n",
    "\n",
    "plt.show()\n",
    "\n",
    "\n"
   ]
  },
  {
   "cell_type": "markdown",
   "metadata": {},
   "source": [
    "## Random Forest Classifier"
   ]
  },
  {
   "cell_type": "code",
   "execution_count": 74,
   "metadata": {},
   "outputs": [
    {
     "name": "stdout",
     "output_type": "stream",
     "text": [
      "Validation Accuracy : 0.8667004561581348\n",
      "(1973,)\n",
      "(1973,)\n",
      "Confusion matrix, without normalization\n",
      "[[820 236]\n",
      " [ 27 890]]\n",
      "Normalized confusion matrix\n",
      "[[0.78 0.22]\n",
      " [0.03 0.97]]\n"
     ]
    },
    {
     "data": {
      "image/png": "[encoded data removed]",
      "text/plain": [
       "<matplotlib.figure.Figure at 0x2b317ebe470>"
      ]
     },
     "metadata": {},
     "output_type": "display_data"
    },
    {
     "data": {
      "image/png": "[encoded data removed]",
      "text/plain": [
       "<matplotlib.figure.Figure at 0x2b3201b00b8>"
      ]
     },
     "metadata": {},
     "output_type": "display_data"
    }
   ],
   "source": [
    "#Import Random Forest Model\n",
    "from sklearn.ensemble import RandomForestClassifier\n",
    "\n",
    "#Create a Gaussian Classifier\n",
    "clf=RandomForestClassifier(n_estimators=100)\n",
    "\n",
    "\n",
    "\n",
    "#Train the model using the training sets y_pred=clf.predict(X_test)\n",
    "clf.fit(bag_of_words_train, train_y)\n",
    "\n",
    "# save model\n",
    "\n",
    "pickle.dump(clf, open(\"random_forest.pickle\", \"wb\"))\n",
    "\n",
    "\n",
    "\n",
    "tested_y=clf.predict(bag_of_words_test)\n",
    "\n",
    "\n",
    "print('Validation Accuracy : ' + str(accuracy_score(test_y, tested_y)))\n",
    "\n",
    "\n",
    "print(tested_y.shape)\n",
    "print(test_y.shape)\n",
    "from sklearn.metrics import confusion_matrix\n",
    "cm = confusion_matrix(tested_y, test_y)\n",
    "\n",
    "def plot_confusion_matrix(cm, classes=['not fake','fake'],\n",
    "                          normalize=False,\n",
    "                          title='Confusion matrix',\n",
    "                          cmap=plt.cm.Blues):\n",
    "    \"\"\"\n",
    "    This function prints and plots the confusion matrix.\n",
    "    Normalization can be applied by setting `normalize=True`.\n",
    "    \"\"\"\n",
    "    if normalize:\n",
    "        cm = cm.astype('float') / cm.sum(axis=1)[:, np.newaxis]\n",
    "        print(\"Normalized confusion matrix\")\n",
    "    else:\n",
    "        print('Confusion matrix, without normalization')\n",
    "\n",
    "    print(cm)\n",
    "\n",
    "    plt.imshow(cm, interpolation='nearest', cmap=cmap)\n",
    "    plt.title(title)\n",
    "    plt.colorbar()\n",
    "    tick_marks = np.arange(len(classes))\n",
    "    plt.xticks(tick_marks, classes, rotation=45)\n",
    "    plt.yticks(tick_marks, classes)\n",
    "\n",
    "    fmt = '.2f' if normalize else 'd'\n",
    "    thresh = cm.max() / 2.\n",
    "    for i, j in itertools.product(range(cm.shape[0]), range(cm.shape[1])):\n",
    "        plt.text(j, i, format(cm[i, j], fmt),\n",
    "                 horizontalalignment=\"center\",\n",
    "                 color=\"white\" if cm[i, j] > thresh else \"black\")\n",
    "\n",
    "    plt.ylabel('True label')\n",
    "    plt.xlabel('Predicted label')\n",
    "    plt.tight_layout()\n",
    "\n",
    "\n",
    "# Compute confusion matrix\n",
    "np.set_printoptions(precision=2)\n",
    "\n",
    "# Plot non-normalized confusion matrix\n",
    "plt.figure()\n",
    "plot_confusion_matrix(cm,\n",
    "                      title='Confusion matrix, without normalization')\n",
    "\n",
    "# Plot normalized confusion matrix\n",
    "plt.figure()\n",
    "plot_confusion_matrix(cm, normalize=True,\n",
    "                      title='Normalized confusion matrix')\n",
    "\n",
    "plt.show()\n",
    "\n"
   ]
  },
  {
   "cell_type": "code",
   "execution_count": null,
   "metadata": {
    "scrolled": true
   },
   "outputs": [],
   "source": [
    "news_input = '''\n",
    "\n",
    "الصح 18 حال وفا و 3 اصاب فى حادث منطاد اقصر اعل دكتور خالد خطيب رييس ادار مركز رعا عاجل حرج زار الصح عدد حال وفا فى حادث حريق و انفجار منطاد اقصر اثناء هبوط وصل 18 حال وفا و3 مصاب اوضح خطيب تصريح يوم قتلى 4 يابا و9 صين رنس اثن مجر وانجليزى اضاف مواط مصر مشير حصر وفق بيا وارد شرك مسيول رحل مدير الصح اقصر ولف مصاب ثلاث ريطا مصر يخضع علاج مستشفى اقصر دولى تراوح حال اصاب حروق درج ثلاث جروح متعدد كسور كان دكتور محمد مصطفى حامد زير الصح والس اصدر تعليم نقل ضحا اسعاف طاير قاهر مصاب حادث مستشفى معهد ناصر وقد توج صباح يوم ريق طب رياس دكتور محمد سلط رييس هيء اسعاف مصر اقصر قوف حال مصاب طير بال قان مطابق مواصف واحترق اثناء هبو فى سياق متصل اكد رييس سلط طير مدن محمد ابراهيم شريف بال سقط محافظ اقصر صعيد مصر صباح يومالثلاثاء واد ال مصرع 19 سايح كان مرخص يعمل شكل قان طبق تعليم مواصف تنص زار طير مدن قال ابراهيم تصريح صحف يومالثلاثاءء لجن حوادث بدء تحقيق لفحص ملابس حادث معرف اسباب حقيق اضاف حريق نشب بال اثناء محاول تثب عمال ارض مرحل هبوط مساف 3 امتار ارض اقلع مر ثان وف اثناء قفز ركاب هروب طيار ارتفع بال ال اعل اد ال زياد اشتعال فعل عوامل الجو قال معروف مندوب شرك مطار يقوم مخاطب ارصاد الجو معرف سرع رياح واتج ومد ملايم اجواء اقلاع بال يقوم تنسيق الجه مختلف معرف عدد مناطيد اخر اما سماء تحدث مصادم اجراء سلامةمش ال بال يقسم ال اربع اجزاء جزء يسع خمس ركاب اضاف ال جزء مخصص طيار\n",
    "'''\n",
    "print(news_input)\n",
    "\n",
    "empty_list = list()\n",
    "empty_list.append(news_input)\n",
    "    \n",
    "print(empty_list)\n",
    "\n",
    "filtered_df = normalizeDF(pd.DataFrame(empty_list,columns=['text']))\n",
    "\n",
    "print(\"here\")\n",
    "\n",
    "print(filtered_df)\n",
    "\n",
    "\n",
    "\n",
    "    \n",
    "model1_name = \"logistic_reg.pickle\"\n",
    "model2_name = \"nayve_bayes.pickle\"\n",
    "model3_name = \"random_forest.pickle\"\n",
    "\n",
    "print('on est la mon frere')    \n",
    "    \n",
    "    \n",
    "\n",
    "loaded_model1 = pickle.load(open(model1_name, 'rb'))\n",
    "loaded_model2 = pickle.load(open(model2_name, 'rb'))\n",
    "loaded_model3 = pickle.load(open(model3_name, 'rb'))\n",
    "    \n",
    "tfidfvect = pickle.load(open(\"vectorizer.pickle\",\"rb\"))\n",
    "\n",
    "\n",
    "news_vector = tfidfvect.transform(filtered_df.values.astype('U')[0]).toarray()\n",
    "\n",
    "pd.DataFrame(filtered_df.values).to_csv(\"k3.csv\")\n",
    "\n",
    "pd.DataFrame(news_vector).to_csv(\"K4.csv\")\n",
    "\n",
    "print(loaded_model1.predict(news_vector))\n",
    "print(loaded_model2.predict(news_vector))\n",
    "print(loaded_model3.predict(news_vector))\n",
    "    \n",
    "print('loaded_model')\n",
    "    \n",
    "\n"
   ]
  },
  {
   "cell_type": "code",
   "execution_count": null,
   "metadata": {},
   "outputs": [],
   "source": []
  },
  {
   "cell_type": "code",
   "execution_count": null,
   "metadata": {},
   "outputs": [],
   "source": [
    "import keras\n",
    "\n",
    "Y = pd.get_dummies(train_y)\n",
    "Y_t = pd.get_dummies(test_y)\n",
    "\n",
    "\n",
    "model = Sequential()\n",
    "\n",
    "model.add(Conv1D(128, 5,padding='same',\n",
    "                 input_shape=(5000,1)))\n",
    "model.add(Activation('relu'))\n",
    "model.add(Conv1D(128, 5,padding='same'))\n",
    "model.add(Activation('relu'))\n",
    "model.add(Dropout(0.1))\n",
    "model.add(MaxPooling1D(pool_size=(8)))\n",
    "model.add(Conv1D(128, 5,padding='same',))\n",
    "model.add(Activation('relu'))\n",
    "model.add(Conv1D(128, 5,padding='same',))\n",
    "model.add(Activation('relu'))\n",
    "\n",
    "model.add(Flatten())\n",
    "model.add(Dense(2))\n",
    "model.add(Activation('softmax'))\n",
    "opt = keras.optimizers.rmsprop(lr=0.00001, decay=1e-6)\n",
    "model.summary()\n",
    "model.compile(loss='categorical_crossentropy', optimizer=opt,metrics=['accuracy'])\n",
    "cnnhistory=model.fit(bag_of_words_train.reshape((7398,5000,1)), Y, batch_size=32, epochs=10, validation_data=(bag_of_words_test, y_t))\n"
   ]
  },
  {
   "cell_type": "code",
   "execution_count": null,
   "metadata": {},
   "outputs": [],
   "source": [
    "import keras\n",
    "\n",
    "Y = pd.get_dummies(train_y)\n",
    "Y_t = pd.get_dummies(test_y)\n",
    "\n",
    "\n",
    "model = Sequential()\n",
    "\n",
    "model.add(Conv1D(128, 5,padding='same',\n",
    "                 input_shape=(5000,1)))\n",
    "model.add(Activation('relu'))\n",
    "model.add(Conv1D(128, 5,padding='same'))\n",
    "model.add(Activation('relu'))\n",
    "model.add(Dropout(0.2))\n",
    "model.add(MaxPooling1D(pool_size=(8)))\n",
    "model.add(LSTM(100))\n",
    "model.add(Flatten())\n",
    "model.add(Dense(2))\n",
    "model.add(Activation('softmax'))\n",
    "opt = keras.optimizers.rmsprop(lr=0.00001, decay=1e-6)\n",
    "model.summary()\n",
    "model.compile(loss='categorical_crossentropy', optimizer=opt,metrics=['accuracy'])\n",
    "cnnhistory=model.fit(bag_of_words_train.reshape((7398,5000,1)), Y, batch_size=32, epochs=10, validation_data=(bag_of_words_test, y_t))\n"
   ]
  },
  {
   "cell_type": "markdown",
   "metadata": {},
   "source": [
    "## Long Short Term Memory"
   ]
  },
  {
   "cell_type": "code",
   "execution_count": null,
   "metadata": {},
   "outputs": [],
   "source": []
  }
 ],
 "metadata": {
  "kernelspec": {
   "display_name": "Python 3",
   "language": "python",
   "name": "python3"
  },
  "language_info": {
   "codemirror_mode": {
    "name": "ipython",
    "version": 3
   },
   "file_extension": ".py",
   "mimetype": "text/x-python",
   "name": "python",
   "nbconvert_exporter": "python",
   "pygments_lexer": "ipython3",
   "version": "3.6.4"
  }
 },
 "nbformat": 4,
 "nbformat_minor": 2
}
